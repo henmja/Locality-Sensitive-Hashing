{
 "cells": [
  {
   "cell_type": "markdown",
   "metadata": {},
   "source": [
    "In this assignment the goal is to implement the dimensionality reduction technique *Principal Component Analysis (PCA)* to a very high dimensional data and apply visualization. Note that you are not allowed to use the built-in PCA API provided by the sklearn library. Instead you will be implementing from the scratch.\n",
    "\n",
    "    For this task we use the MNIST dataset. First we download the dataset using openml api"
   ]
  },
  {
   "cell_type": "code",
   "execution_count": 1,
   "metadata": {},
   "outputs": [
    {
     "name": "stdout",
     "output_type": "stream",
     "text": [
      "(70000, 784) (70000,)\n"
     ]
    }
   ],
   "source": [
    "from sklearn.datasets import fetch_openml\n",
    "mnist = fetch_openml('mnist_784', cache=False)\n",
    "X = mnist.data\n",
    "y = mnist.target\n",
    "print(X.shape, y.shape)"
   ]
  },
  {
   "cell_type": "markdown",
   "metadata": {},
   "source": [
    "# Part-1: Preprocessing\n",
    "Before implementing PCA you are required to perform some preprocessing steps:\n",
    "1. Mean normalization: Replace each feature/attribute, $x_{ji}$ with $x_j - \\mu_j$, In other words, determine the mean of each feature set, and then for each feature subtract the mean from the value, so we re-scale the mean to be 0 \n",
    "2. Feature scaling: If features have very different scales then scale make them comparable by altering the scale, so they all have a comparable range of values e.g. $x_{ji}$ is set to $(x_j - \\mu_j) / s_j$  Where $s_j$ is some measure of the range, so could be  $\\max(x_j) - \\min(x_j)$ or Standard deviation $stddev(x_j)$."
   ]
  },
  {
   "cell_type": "code",
   "execution_count": 2,
   "metadata": {},
   "outputs": [
    {
     "name": "stdout",
     "output_type": "stream",
     "text": [
      "(70000, 784)\n"
     ]
    }
   ],
   "source": [
    "#TODO Implement mean normalization and feature scaling\n",
    "\n",
    "import numpy as np\n",
    "from sklearn import preprocessing\n",
    "#Mean normalization of X\n",
    "X_norm = preprocessing.normalize(X)\n",
    "\n",
    "from sklearn.preprocessing import StandardScaler\n",
    "#Feature Scaling of X\n",
    "# Initialise the Scaler \n",
    "scaler = StandardScaler() \n",
    "  \n",
    "# To scale data \n",
    "X_scaled=scaler.fit_transform(X_norm)\n",
    "print(X_scaled.shape)"
   ]
  },
  {
   "cell_type": "markdown",
   "metadata": {},
   "source": [
    "# Part-2: Covariance matrix\n",
    "Now the preprocessing is finished. Next, as explained in the lecture, you need to compute the covariance matrix https://en.wikipedia.org/wiki/Covariance_matrix. Given $n \\times m$ $n$ rows and $m$ columns matrix, a covariance matrix is an $n \\times n$ matrix given as below (sigma)\n",
    "$\\Sigma = \\frac{1}{m}\\sum{\\left(x^{i}\\right)\\times \\left(x^{i}\\right)^{T}}$\n",
    "You may use the \"numpy.cov\" function in numpy library "
   ]
  },
  {
   "cell_type": "code",
   "execution_count": 3,
   "metadata": {},
   "outputs": [
    {
     "name": "stdout",
     "output_type": "stream",
     "text": [
      "(784, 784)\n"
     ]
    }
   ],
   "source": [
    "#TODO Compute X to covariance matrix cov_matrix.\n",
    "cov_matrix = np.cov(np.transpose(X_scaled))\n",
    "print(cov_matrix.shape)\n"
   ]
  },
  {
   "cell_type": "markdown",
   "metadata": {},
   "source": [
    "# Part-3: SVD computation\n",
    "Now compute the SVD on the covariance matrix $SVD(\\Sigma)$. You may use the svd implementation in numpy.linalg.svd"
   ]
  },
  {
   "cell_type": "code",
   "execution_count": 81,
   "metadata": {},
   "outputs": [
    {
     "name": "stdout",
     "output_type": "stream",
     "text": [
      "[ 3.59679286e+01  2.91586181e+01  2.62874576e+01  1.87233798e+01\n",
      "  1.77485153e+01  1.51454119e+01  1.29012187e+01  1.23614754e+01\n",
      "  1.06158812e+01  1.02038435e+01  9.13745208e+00  8.44910872e+00\n",
      "  8.01161941e+00  7.53538160e+00  7.15987098e+00  6.81551965e+00\n",
      "  6.69496364e+00  6.57269177e+00  6.31031081e+00  6.16202618e+00\n",
      "  5.85770101e+00  5.68591529e+00  5.43015560e+00  5.35187224e+00\n",
      "  5.17467993e+00  4.96544513e+00  4.79210513e+00  4.55178756e+00\n",
      "  4.46304219e+00  4.42120504e+00  4.26420271e+00  4.18433304e+00\n",
      "  4.08336732e+00  4.04053635e+00  3.93378925e+00  3.83283191e+00\n",
      "  3.79885861e+00  3.70961470e+00  3.55550175e+00  3.52966310e+00\n",
      "  3.38183534e+00  3.33225999e+00  3.31223924e+00  3.25930491e+00\n",
      "  3.17270617e+00  3.22263143e+00  3.11063554e+00  3.07740041e+00\n",
      "  3.04458957e+00  2.95042713e+00  2.94013413e+00  2.89401531e+00\n",
      "  2.85134584e+00  2.83945541e+00  2.78816283e+00  2.75775241e+00\n",
      "  2.71121839e+00  2.67715864e+00  2.60260217e+00  2.59202796e+00\n",
      "  2.57337379e+00  2.54601476e+00  2.49170141e+00  2.47069347e+00\n",
      "  2.44666605e+00  2.41823997e+00  2.39708930e+00  2.36287241e+00\n",
      "  2.34069934e+00  2.30358099e+00  2.27632532e+00  2.25097704e+00\n",
      "  2.21591820e+00  2.19025345e+00  2.17145028e+00  2.13558248e+00\n",
      "  2.13049378e+00  2.12062179e+00  2.08596125e+00  2.07041889e+00\n",
      "  2.06622411e+00  2.05608579e+00  2.03789329e+00  2.02487235e+00\n",
      "  2.00437641e+00  1.97943556e+00  1.99339355e+00  1.99906116e+00\n",
      "  2.00173711e+00  1.95925418e+00  1.93687682e+00  1.94422493e+00\n",
      "  1.91074149e+00  1.89739355e+00  1.86130652e+00  1.87369272e+00\n",
      "  1.88690552e+00  1.78619079e+00  1.81097792e+00  1.81366915e+00\n",
      "  1.77221988e+00  1.74829755e+00  1.76364500e+00  1.73675984e+00\n",
      "  1.69280585e+00  1.65883366e+00  1.73241274e+00  1.66315354e+00\n",
      "  1.61993343e+00  1.62985131e+00  1.59458367e+00  1.58433255e+00\n",
      "  1.56852215e+00  1.55373568e+00  1.54443649e+00  1.52974353e+00\n",
      "  1.52358693e+00  1.49919287e+00  1.47150623e+00  1.47735268e+00\n",
      "  1.43331639e+00  1.31546549e+00  1.31984500e+00  1.36766015e+00\n",
      "  1.36077225e+00  1.33469141e+00  1.34570403e+00  1.41190454e+00\n",
      "  1.42550237e+00  1.44997337e+00  1.41061602e+00  1.45008837e+00\n",
      "  1.39297533e+00  1.30040797e+00  1.28777440e+00  1.28363535e+00\n",
      "  1.27194456e+00  1.26445347e+00  1.25090330e+00  1.22555318e+00\n",
      "  1.24153361e+00  1.23857371e+00  1.21342556e+00  1.19584515e+00\n",
      "  1.21753416e+00  1.18402085e+00  1.16129665e+00  1.17375078e+00\n",
      "  1.14810633e+00  1.14629984e+00  1.12941062e+00  1.12595668e+00\n",
      "  1.11592716e+00  1.10803025e+00  1.09588394e+00  1.08441092e+00\n",
      "  1.07589382e+00  1.06681139e+00  1.05793352e+00  1.05517738e+00\n",
      "  1.04526803e+00  1.04134167e+00  1.03801415e+00  8.59036645e-01\n",
      "  8.62204126e-01  1.02468628e+00  1.01795573e+00  8.70259193e-01\n",
      "  1.01307652e+00  9.11102732e-01  9.04577345e-01  8.98138821e-01\n",
      "  8.77972676e-01  9.21751785e-01  9.59527529e-01  9.46845697e-01\n",
      "  9.71802157e-01  9.63947441e-01  8.87286368e-01  9.35010361e-01\n",
      "  9.25315785e-01  9.79218480e-01  9.83528535e-01  8.73590684e-01\n",
      "  8.85634528e-01  9.41772759e-01  1.00378401e+00  9.89408075e-01\n",
      "  9.98228390e-01  9.97316001e-01  9.99930994e-01  1.00205710e+00\n",
      "  1.00171323e+00  8.52349097e-01  8.47839451e-01  8.37229373e-01\n",
      "  8.24383442e-01  8.19313868e-01  8.11272091e-01  8.06306997e-01\n",
      "  8.00978325e-01  8.03124361e-01  7.84276499e-01  7.74588498e-01\n",
      "  7.79577406e-01  7.66206940e-01  7.56679550e-01  7.51517570e-01\n",
      "  7.39684058e-01  7.37615140e-01  7.33171709e-01  7.28025002e-01\n",
      "  7.23432050e-01  7.18432367e-01  7.07904075e-01  6.99645056e-01\n",
      "  6.91009571e-01  6.87664863e-01  6.82393997e-01  5.90826792e-01\n",
      "  6.73360112e-01  6.65257761e-01  6.70032615e-01  6.57327961e-01\n",
      "  5.95244405e-01  5.98545933e-01  6.07215541e-01  6.15281185e-01\n",
      "  6.53823613e-01  6.23560409e-01  6.02372342e-01  6.45858420e-01\n",
      "  6.51736457e-01  6.19345076e-01  6.41110152e-01  6.28887998e-01\n",
      "  6.35495395e-01  6.34348044e-01  5.84639740e-01  5.81719626e-01\n",
      "  5.71945756e-01  5.67746949e-01  5.58919805e-01  5.57730233e-01\n",
      "  5.50195899e-01  5.43860202e-01  5.49370652e-01  5.34548784e-01\n",
      "  5.31835010e-01  5.18771000e-01  5.26022122e-01  5.24181367e-01\n",
      "  5.14008978e-01  5.10160191e-01  5.05595898e-01  4.98119849e-01\n",
      "  4.92708074e-01  4.91299728e-01  4.85093497e-01  4.86176369e-01\n",
      "  4.75861656e-01  4.75036825e-01  4.68077130e-01  4.70354061e-01\n",
      "  4.62612045e-01  4.59493324e-01  4.54028545e-01  4.48615615e-01\n",
      "  4.09407767e-01  4.38938117e-01  4.41910626e-01  4.46575426e-01\n",
      "  4.31283701e-01  4.18869166e-01  4.44245294e-01  4.12154077e-01\n",
      "  4.29235438e-01  4.16813353e-01  4.25779301e-01  4.20741940e-01\n",
      "  4.24365670e-01  4.23042592e-01  4.05057874e-01  4.01943360e-01\n",
      "  4.03527212e-01  3.96479788e-01  3.94272675e-01  3.90129919e-01\n",
      "  3.86411099e-01  3.88214435e-01  3.80557407e-01  3.79059555e-01\n",
      "  3.75798778e-01  3.77300495e-01  3.72921931e-01  3.66950741e-01\n",
      "  3.64474851e-01  3.60961798e-01  3.59728753e-01  3.58126797e-01\n",
      "  3.57154414e-01  3.42304519e-01  3.46768868e-01  3.50000307e-01\n",
      "  3.48645195e-01  3.50784209e-01  3.40423767e-01  3.36057184e-01\n",
      "  3.31825134e-01  3.26199502e-01  3.33520128e-01  3.34899201e-01\n",
      "  3.22943002e-01  3.19503644e-01  3.16705112e-01  3.11089352e-01\n",
      "  3.11810466e-01  3.09621270e-01  3.04453089e-01  3.08609638e-01\n",
      "  3.07256347e-01  3.02103873e-01  2.97836462e-01  2.89953116e-01\n",
      "  2.93389029e-01  2.95373547e-01  2.94918942e-01  2.87154756e-01\n",
      "  2.84742878e-01  2.87890148e-01 -2.52402000e-14 -2.56720582e-14\n",
      " -3.35496126e-16 -9.94847035e-17  4.27139249e-16  1.52395326e-16\n",
      "  2.81776951e-01  2.80924762e-01  2.79442854e-01  2.76228331e-01\n",
      "  2.78173261e-01  2.74805456e-01  2.67365027e-01  2.69368088e-01\n",
      "  2.63833535e-01  2.61474261e-01  2.60136924e-01  2.58292815e-01\n",
      "  2.56408821e-01  2.53229680e-01  2.54984605e-01  2.54121121e-01\n",
      "  2.48522719e-01  2.50246963e-01  2.43318405e-01  2.45228728e-01\n",
      "  2.45151771e-01  2.40123301e-01  2.41672860e-01  2.40388434e-01\n",
      "  2.34776236e-01  2.35655226e-01  2.37669747e-01  1.80239699e-01\n",
      "  1.80965992e-01  2.33091463e-01  2.32065200e-01  2.29844578e-01\n",
      "  2.26977468e-01  2.28471509e-01  1.82556377e-01  1.82675108e-01\n",
      "  1.84013062e-01  2.24151504e-01  2.22195752e-01  2.20414743e-01\n",
      "  1.85704757e-01  1.86921942e-01  1.87765600e-01  1.89413501e-01\n",
      "  2.18349407e-01  1.90487762e-01  2.17238158e-01  1.92670794e-01\n",
      "  1.98321892e-01  1.97397394e-01  1.94642245e-01  1.91469245e-01\n",
      "  1.95651209e-01  2.00306514e-01  2.11050257e-01  2.03992829e-01\n",
      "  2.15841662e-01  2.02522102e-01  2.09521315e-01  2.13113239e-01\n",
      "  2.14082348e-01  2.06595638e-01  2.06078942e-01  2.15699245e-01\n",
      "  2.08084768e-01  1.65957857e-01  1.70186392e-01  1.69230606e-01\n",
      "  1.72781490e-01  1.73880963e-01  1.74373119e-01  1.75935509e-01\n",
      "  1.78588003e-01  1.77875890e-01  1.77630272e-01  1.51258950e-01\n",
      "  1.51616412e-01  1.53446009e-01  1.57048857e-01  1.54626181e-01\n",
      "  1.53934404e-01  1.58177783e-01  1.59746835e-01  1.60112984e-01\n",
      "  1.63757796e-01  1.63460890e-01  1.60896222e-01  1.54196726e-01\n",
      "  1.66616642e-01  1.66931853e-01  1.62581326e-01  1.37755127e-01\n",
      "  1.39068743e-01  1.39866631e-01  1.40074917e-01  1.40534519e-01\n",
      "  1.41781317e-01  1.42914823e-01  1.44049514e-01  1.47637677e-01\n",
      "  1.48946202e-01  1.46827026e-01  1.45467096e-01  1.50420748e-01\n",
      "  1.45780004e-01  1.43498146e-01  1.49769059e-01  1.08679301e-02\n",
      "  1.23395697e-01  1.24537335e-01  1.24920769e-01  1.25808625e-01\n",
      "  1.27172030e-01  1.36965846e-01  1.35716006e-01  1.34025219e-01\n",
      "  1.28527494e-01  1.33269841e-01  1.32686495e-01  1.30727583e-01\n",
      "  1.26017867e-01  1.31279876e-01  1.29756821e-01  1.29563320e-01\n",
      "  1.80571142e-02  2.00991102e-02  2.06592681e-02  2.17565206e-02\n",
      "  2.20286643e-02  1.21997188e-01  1.21884931e-01  1.20750822e-01\n",
      "  1.20196978e-01  1.16364393e-01  1.17012430e-01  1.18779203e-01\n",
      "  1.19226759e-01  1.19517510e-01  1.08202146e-01  1.14974424e-01\n",
      "  1.14743030e-01  1.13604220e-01  1.12393100e-01  1.09068064e-01\n",
      "  1.09366198e-01  1.11591832e-01  1.10765566e-01  1.10302424e-01\n",
      "  1.17384176e-01  1.13940554e-01  1.11303436e-01  2.26571606e-02\n",
      "  2.31153420e-02  2.34137077e-02  2.37382186e-02  2.38480265e-02\n",
      "  2.45004659e-02  2.48259133e-02  2.49916076e-02  2.52256416e-02\n",
      "  2.56033305e-02  2.58166388e-02  1.08538529e-01  2.62446905e-02\n",
      "  2.65956165e-02  1.06614528e-01  1.06253864e-01  1.05953978e-01\n",
      "  1.05567022e-01  2.78779827e-02  1.03951794e-01  1.03320515e-01\n",
      "  1.02951568e-01  2.71005824e-02  2.70183636e-02  2.74781107e-02\n",
      "  2.67953242e-02  1.01726933e-01  1.02205734e-01  1.01402017e-01\n",
      "  1.00733733e-01  1.00420349e-01  2.72838888e-02  9.94628403e-02\n",
      "  9.85586094e-02  9.92100976e-02  9.70261615e-02  9.73802117e-02\n",
      "  2.80096817e-02  2.82609013e-02  2.89177183e-02  2.90436599e-02\n",
      "  2.94379773e-02  2.97822891e-02  2.95288995e-02  2.96219104e-02\n",
      "  3.03954906e-02  3.04909316e-02  3.10818538e-02  3.13006743e-02\n",
      "  3.09793053e-02  9.83191921e-02  3.17981413e-02  3.31759370e-02\n",
      "  3.29213225e-02  3.35844728e-02  3.22105984e-02  3.24001721e-02\n",
      "  3.25624245e-02  9.61303035e-02  9.57329731e-02  9.48887935e-02\n",
      "  9.44173378e-02  9.41153436e-02  9.34491170e-02  9.36408759e-02\n",
      "  9.18195266e-02  9.26774844e-02  9.32813181e-02  9.13031902e-02\n",
      "  9.07270585e-02  9.04720845e-02  8.98629191e-02  8.91816337e-02\n",
      "  8.94045375e-02  8.86012888e-02  7.90088635e-02  7.87279179e-02\n",
      "  7.99054717e-02  8.78013413e-02  8.79711196e-02  8.04170503e-02\n",
      "  8.69888129e-02  8.76023657e-02  8.09603418e-02  8.12234700e-02\n",
      "  8.62589759e-02  8.18033550e-02  8.22295864e-02  8.26756113e-02\n",
      "  8.56933994e-02  8.46364655e-02  8.49875821e-02  8.52399471e-02\n",
      "  8.33669808e-02  8.39660066e-02  8.23697834e-02  8.41718530e-02\n",
      "  3.37663610e-02  3.41810843e-02  3.45144029e-02  7.80261429e-02\n",
      "  7.74881647e-02  7.71259716e-02  7.72975376e-02  7.82109086e-02\n",
      "  3.55564926e-02  3.56227405e-02  3.48852281e-02  3.40549932e-02\n",
      "  3.50091207e-02  7.17951437e-02  7.26781794e-02  7.34588953e-02\n",
      "  7.41940093e-02  7.48014768e-02  7.57362556e-02  7.55901002e-02\n",
      "  7.45969590e-02  7.40248649e-02  7.64905702e-02  7.69116033e-02\n",
      "  3.60898710e-02  3.65265355e-02  3.63547949e-02  3.68106633e-02\n",
      "  3.71581931e-02  3.78354326e-02  3.85096219e-02  3.79578626e-02\n",
      "  3.80213194e-02  7.12959182e-02  7.19408060e-02  7.01480064e-02\n",
      "  7.03727857e-02  6.83045804e-02  6.87714491e-02  6.95151402e-02\n",
      "  6.93581043e-02  6.57483282e-02  6.53648874e-02  6.72199799e-02\n",
      "  6.77751324e-02  6.46469349e-02  6.49502788e-02  6.76709598e-02\n",
      "  6.65112453e-02  6.62429820e-02  6.67693499e-02  3.73514746e-02\n",
      "  6.40482723e-02  3.86796878e-02  3.91606426e-02  6.36928137e-02\n",
      "  6.47693823e-02  6.31785090e-02  6.23587081e-02  3.90553578e-02\n",
      "  3.97612468e-02  4.01037287e-02  3.98448536e-02  4.05840618e-02\n",
      "  6.17856828e-02  4.09165802e-02  5.57177235e-02  5.80028819e-02\n",
      "  5.59132573e-02  6.01454439e-02  5.97243744e-02  5.73972460e-02\n",
      "  5.89957419e-02  4.55449593e-02  4.53154419e-02  4.34089139e-02\n",
      "  4.29006725e-02  4.12928856e-02  6.21565745e-02  5.69753429e-02\n",
      "  4.37890968e-02  4.17954900e-02  6.11820132e-02  4.39060949e-02\n",
      "  4.22568920e-02  4.20003523e-02  4.13448278e-02  5.87058698e-02\n",
      "  4.46909332e-02  4.19028446e-02  4.25108391e-02  6.06774810e-02\n",
      "  6.08390816e-02  4.46132235e-02  4.43867025e-02  6.27224874e-02\n",
      "  6.13599403e-02  5.92219890e-02  5.72450153e-02  5.63394637e-02\n",
      "  5.48333057e-02  5.44670857e-02  4.58509819e-02  4.56981992e-02\n",
      "  5.54956310e-02  4.64919515e-02  5.68252445e-02  5.40082157e-02\n",
      "  4.71250579e-02  4.60636635e-02  4.73245864e-02  5.37113764e-02\n",
      "  5.33665680e-02  4.89598934e-02  5.32354236e-02  5.21311135e-02\n",
      "  4.86283946e-02  5.28339289e-02  4.78238579e-02  5.09150712e-02\n",
      "  4.92051853e-02  4.94243610e-02  5.06261030e-02  5.19714158e-02\n",
      "  4.99488792e-02  5.16152652e-02  5.29798805e-02  4.75356382e-02\n",
      "  4.83774768e-02  5.01576679e-02  5.04155511e-02  5.13922243e-02\n",
      "  5.15383072e-02  4.77287338e-02  4.82538810e-02  0.00000000e+00\n",
      "  0.00000000e+00  0.00000000e+00  0.00000000e+00  0.00000000e+00\n",
      "  0.00000000e+00  0.00000000e+00  0.00000000e+00  0.00000000e+00\n",
      "  0.00000000e+00  0.00000000e+00  0.00000000e+00  0.00000000e+00\n",
      "  0.00000000e+00  0.00000000e+00  0.00000000e+00  0.00000000e+00\n",
      "  0.00000000e+00  0.00000000e+00  0.00000000e+00  0.00000000e+00\n",
      "  0.00000000e+00  0.00000000e+00  0.00000000e+00  0.00000000e+00\n",
      "  0.00000000e+00  0.00000000e+00  0.00000000e+00  0.00000000e+00\n",
      "  0.00000000e+00  0.00000000e+00  0.00000000e+00  0.00000000e+00\n",
      "  0.00000000e+00  0.00000000e+00  0.00000000e+00  0.00000000e+00\n",
      "  0.00000000e+00  0.00000000e+00  0.00000000e+00  0.00000000e+00\n",
      "  0.00000000e+00  0.00000000e+00  0.00000000e+00  0.00000000e+00\n",
      "  0.00000000e+00  0.00000000e+00  0.00000000e+00  0.00000000e+00\n",
      "  0.00000000e+00  0.00000000e+00  0.00000000e+00  0.00000000e+00\n",
      "  0.00000000e+00  0.00000000e+00  0.00000000e+00  0.00000000e+00\n",
      "  0.00000000e+00  0.00000000e+00  0.00000000e+00  0.00000000e+00\n",
      "  0.00000000e+00  0.00000000e+00  0.00000000e+00  0.00000000e+00]\n",
      "(784, 784)\n"
     ]
    }
   ],
   "source": [
    "import numpy as np\n",
    "def getSVD(mat, K):\n",
    "    eigvals, eigvecs = np.linalg.eig(mat)\n",
    "    print(eigvals)\n",
    "    eigvals[:K]/sum(eigvals) #chose K=10 because 10 first eigvals are highest\n",
    "    return (eigvals, eigvecs)\n",
    "S,U = getSVD(cov_matrix, 2) #SVD\n",
    "print(U.shape)"
   ]
  },
  {
   "cell_type": "markdown",
   "metadata": {},
   "source": [
    "# Part-4: Compute PCA matrix (K dimensional)\n",
    "Now select the first $k$ columns from the matrix $U$ and multiply with $X$ to get $k$ dimensional representation."
   ]
  },
  {
   "cell_type": "code",
   "execution_count": 82,
   "metadata": {},
   "outputs": [
    {
     "name": "stdout",
     "output_type": "stream",
     "text": [
      "[ 2.59256947 -6.84709922 -9.98730042 ...  5.5705595   2.78150155\n",
      " -8.12355675]\n",
      "[-3.13147874 -6.25619622 10.71390608 ...  2.98259909 -4.70205929\n",
      " -5.84685375]\n"
     ]
    }
   ],
   "source": [
    "def getKComponents(U, X, K):\n",
    "    projected_X = np.zeros((K,70000))\n",
    "    for i in range(0,K):\n",
    "        projected_X[i] = X_scaled.dot(U.T[i])\n",
    "        print(projected_X[i])\n",
    "    return (projected_X)\n",
    "#I set variable K to 10 for testing:\n",
    "PCA = getKComponents(U,X_scaled,2)\n",
    "\n"
   ]
  },
  {
   "cell_type": "markdown",
   "metadata": {},
   "source": [
    "# Part-5: Compute Reconstruction Error\n",
    "Implement a function to compute the variance ratio (from reconstruction error)"
   ]
  },
  {
   "cell_type": "code",
   "execution_count": 83,
   "metadata": {
    "scrolled": true
   },
   "outputs": [
    {
     "name": "stdout",
     "output_type": "stream",
     "text": [
      "0.3256280816176089\n",
      "K = 34\n"
     ]
    }
   ],
   "source": [
    "def getVarianceRatio(PCA, K, X):\n",
    "    #Implement computation of reconstruction error\n",
    "    # Average of the values in each row of U\n",
    "    recErr = ((np.transpose(X[:,:K]) - PCA)**2).mean()/100\n",
    "    return (recErr)\n",
    "\n",
    "recErr = getVarianceRatio(PCA,2,X_scaled)\n",
    "print(recErr)\n",
    "print(\"K = 34\") #k=34 GIVES VARIANCE RATIO < 1%"
   ]
  },
  {
   "cell_type": "markdown",
   "metadata": {},
   "source": [
    "Compare the variance ration to the built-in PCA implementation in sklearn https://scikit-learn.org/stable/modules/generated/sklearn.decomposition.PCA.html (this step is optional)"
   ]
  },
  {
   "cell_type": "markdown",
   "metadata": {},
   "source": [
    "# Part-6: Scatter plot 2-dimensional PCA\n",
    "Using matplotlib plot the 2-dimensional scatter plot of the first 2 compoenents with y (target) as labels"
   ]
  },
  {
   "cell_type": "code",
   "execution_count": 84,
   "metadata": {},
   "outputs": [
    {
     "data": {
      "image/png": "[encoded data removed]",
      "text/plain": [
       "<Figure size 432x288 with 1 Axes>"
      ]
     },
     "metadata": {
      "needs_background": "light"
     },
     "output_type": "display_data"
    }
   ],
   "source": [
    "#PLOT FIRST TWO PCA COMPONENTS WITH y AS LABEL.\n",
    "import matplotlib.pyplot as plt\n",
    "import numpy as np\n",
    "import pandas as pd\n",
    "\n",
    "# Create dataset\n",
    "df = pd.DataFrame(dict(x=projected_X[0], y=projected_X[1], label=y))\n",
    "\n",
    "groups = df.groupby('label')\n",
    "\n",
    "# plot\n",
    "fig, ax = plt.subplots()\n",
    "ax.margins(0.05)\n",
    "for name, group in groups:\n",
    "    ax.plot(group.x, group.y, marker='o', linestyle='', ms=12, label=name)\n",
    "ax.legend()\n",
    "\n",
    "plt.show()"
   ]
  },
  {
   "cell_type": "markdown",
   "metadata": {},
   "source": [
    "# Part-7 Find best $K$\n",
    "Find the minimum value of $K$ with which the ratio between averaged squared projection error with total variation in data is less than 10% in other words we retain 90% of the variance. You can achieve this by repeating getKComponents with $K=1$ until the variance ratio is <= 10%."
   ]
  },
  {
   "cell_type": "markdown",
   "metadata": {},
   "source": [
    "# Part-8: TSNE visualization\n",
    "Finally, having found an optimal $K$ use these components as an input data to another dimensionality reduction method called tSNE (https://en.wikipedia.org/wiki/T-distributed_stochastic_neighbor_embedding) and reduce it to 2 dimensions."
   ]
  },
  {
   "cell_type": "code",
   "execution_count": 85,
   "metadata": {},
   "outputs": [
    {
     "ename": "AttributeError",
     "evalue": "type object 'sklearn.neighbors.ball_tree.NeighborsHeap' has no attribute '__reduce_cython__'",
     "output_type": "error",
     "traceback": [
      "\u001b[1;31m---------------------------------------------------------------------------\u001b[0m",
      "\u001b[1;31mAttributeError\u001b[0m                            Traceback (most recent call last)",
      "\u001b[1;32m<ipython-input-85-c70fca83699f>\u001b[0m in \u001b[0;36m<module>\u001b[1;34m\u001b[0m\n\u001b[0;32m      3\u001b[0m     \u001b[0mprojected_X\u001b[0m\u001b[1;33m[\u001b[0m\u001b[0mi\u001b[0m\u001b[1;33m]\u001b[0m \u001b[1;33m=\u001b[0m \u001b[0mX_scaled\u001b[0m\u001b[1;33m.\u001b[0m\u001b[0mdot\u001b[0m\u001b[1;33m(\u001b[0m\u001b[0mU\u001b[0m\u001b[1;33m.\u001b[0m\u001b[0mT\u001b[0m\u001b[1;33m[\u001b[0m\u001b[0mi\u001b[0m\u001b[1;33m]\u001b[0m\u001b[1;33m)\u001b[0m\u001b[1;33m\u001b[0m\u001b[1;33m\u001b[0m\u001b[0m\n\u001b[0;32m      4\u001b[0m \u001b[1;33m\u001b[0m\u001b[0m\n\u001b[1;32m----> 5\u001b[1;33m \u001b[1;32mfrom\u001b[0m \u001b[0msklearn\u001b[0m\u001b[1;33m.\u001b[0m\u001b[0mmanifold\u001b[0m \u001b[1;32mimport\u001b[0m \u001b[0mTSNE\u001b[0m\u001b[1;33m\u001b[0m\u001b[1;33m\u001b[0m\u001b[0m\n\u001b[0m\u001b[0;32m      6\u001b[0m \u001b[0mrndperm\u001b[0m \u001b[1;33m=\u001b[0m \u001b[0mnp\u001b[0m\u001b[1;33m.\u001b[0m\u001b[0mrandom\u001b[0m\u001b[1;33m.\u001b[0m\u001b[0mpermutation\u001b[0m\u001b[1;33m(\u001b[0m\u001b[0mmnist\u001b[0m\u001b[1;33m.\u001b[0m\u001b[0mdata\u001b[0m\u001b[1;33m.\u001b[0m\u001b[0mshape\u001b[0m\u001b[1;33m[\u001b[0m\u001b[1;36m0\u001b[0m\u001b[1;33m]\u001b[0m\u001b[1;33m)\u001b[0m\u001b[1;33m\u001b[0m\u001b[1;33m\u001b[0m\u001b[0m\n\u001b[0;32m      7\u001b[0m \u001b[0mn_sne\u001b[0m \u001b[1;33m=\u001b[0m \u001b[1;36m10000\u001b[0m \u001b[1;31m#it is sufficient if done for 10k samples\u001b[0m\u001b[1;33m\u001b[0m\u001b[1;33m\u001b[0m\u001b[0m\n",
      "\u001b[1;32m~\\Anaconda3\\lib\\site-packages\\sklearn\\manifold\\__init__.py\u001b[0m in \u001b[0;36m<module>\u001b[1;34m\u001b[0m\n\u001b[0;32m      3\u001b[0m \"\"\"\n\u001b[0;32m      4\u001b[0m \u001b[1;33m\u001b[0m\u001b[0m\n\u001b[1;32m----> 5\u001b[1;33m \u001b[1;32mfrom\u001b[0m \u001b[1;33m.\u001b[0m\u001b[0mlocally_linear\u001b[0m \u001b[1;32mimport\u001b[0m \u001b[0mlocally_linear_embedding\u001b[0m\u001b[1;33m,\u001b[0m \u001b[0mLocallyLinearEmbedding\u001b[0m\u001b[1;33m\u001b[0m\u001b[1;33m\u001b[0m\u001b[0m\n\u001b[0m\u001b[0;32m      6\u001b[0m \u001b[1;32mfrom\u001b[0m \u001b[1;33m.\u001b[0m\u001b[0misomap\u001b[0m \u001b[1;32mimport\u001b[0m \u001b[0mIsomap\u001b[0m\u001b[1;33m\u001b[0m\u001b[1;33m\u001b[0m\u001b[0m\n\u001b[0;32m      7\u001b[0m \u001b[1;32mfrom\u001b[0m \u001b[1;33m.\u001b[0m\u001b[0mmds\u001b[0m \u001b[1;32mimport\u001b[0m \u001b[0mMDS\u001b[0m\u001b[1;33m,\u001b[0m \u001b[0msmacof\u001b[0m\u001b[1;33m\u001b[0m\u001b[1;33m\u001b[0m\u001b[0m\n",
      "\u001b[1;32m~\\Anaconda3\\lib\\site-packages\\sklearn\\manifold\\locally_linear.py\u001b[0m in \u001b[0;36m<module>\u001b[1;34m\u001b[0m\n\u001b[0;32m     15\u001b[0m \u001b[1;32mfrom\u001b[0m \u001b[1;33m.\u001b[0m\u001b[1;33m.\u001b[0m\u001b[0mutils\u001b[0m\u001b[1;33m.\u001b[0m\u001b[0mvalidation\u001b[0m \u001b[1;32mimport\u001b[0m \u001b[0mcheck_is_fitted\u001b[0m\u001b[1;33m\u001b[0m\u001b[1;33m\u001b[0m\u001b[0m\n\u001b[0;32m     16\u001b[0m \u001b[1;32mfrom\u001b[0m \u001b[1;33m.\u001b[0m\u001b[1;33m.\u001b[0m\u001b[0mutils\u001b[0m\u001b[1;33m.\u001b[0m\u001b[0mvalidation\u001b[0m \u001b[1;32mimport\u001b[0m \u001b[0mFLOAT_DTYPES\u001b[0m\u001b[1;33m\u001b[0m\u001b[1;33m\u001b[0m\u001b[0m\n\u001b[1;32m---> 17\u001b[1;33m \u001b[1;32mfrom\u001b[0m \u001b[1;33m.\u001b[0m\u001b[1;33m.\u001b[0m\u001b[0mneighbors\u001b[0m \u001b[1;32mimport\u001b[0m \u001b[0mNearestNeighbors\u001b[0m\u001b[1;33m\u001b[0m\u001b[1;33m\u001b[0m\u001b[0m\n\u001b[0m\u001b[0;32m     18\u001b[0m \u001b[1;33m\u001b[0m\u001b[0m\n\u001b[0;32m     19\u001b[0m \u001b[1;33m\u001b[0m\u001b[0m\n",
      "\u001b[1;32m~\\Anaconda3\\lib\\site-packages\\sklearn\\neighbors\\__init__.py\u001b[0m in \u001b[0;36m<module>\u001b[1;34m\u001b[0m\n\u001b[0;32m      4\u001b[0m \"\"\"\n\u001b[0;32m      5\u001b[0m \u001b[1;33m\u001b[0m\u001b[0m\n\u001b[1;32m----> 6\u001b[1;33m \u001b[1;32mfrom\u001b[0m \u001b[1;33m.\u001b[0m\u001b[0mball_tree\u001b[0m \u001b[1;32mimport\u001b[0m \u001b[0mBallTree\u001b[0m\u001b[1;33m\u001b[0m\u001b[1;33m\u001b[0m\u001b[0m\n\u001b[0m\u001b[0;32m      7\u001b[0m \u001b[1;32mfrom\u001b[0m \u001b[1;33m.\u001b[0m\u001b[0mkd_tree\u001b[0m \u001b[1;32mimport\u001b[0m \u001b[0mKDTree\u001b[0m\u001b[1;33m\u001b[0m\u001b[1;33m\u001b[0m\u001b[0m\n\u001b[0;32m      8\u001b[0m \u001b[1;32mfrom\u001b[0m \u001b[1;33m.\u001b[0m\u001b[0mdist_metrics\u001b[0m \u001b[1;32mimport\u001b[0m \u001b[0mDistanceMetric\u001b[0m\u001b[1;33m\u001b[0m\u001b[1;33m\u001b[0m\u001b[0m\n",
      "\u001b[1;32msklearn\\neighbors\\binary_tree.pxi\u001b[0m in \u001b[0;36minit sklearn.neighbors.ball_tree\u001b[1;34m()\u001b[0m\n",
      "\u001b[1;31mAttributeError\u001b[0m: type object 'sklearn.neighbors.ball_tree.NeighborsHeap' has no attribute '__reduce_cython__'"
     ]
    }
   ],
   "source": [
    "projected_X = np.zeros((2,70000))\n",
    "for i in range(0,2):\n",
    "    projected_X[i] = X_scaled.dot(U.T[i])\n",
    "\n",
    "from sklearn.manifold import TSNE\n",
    "rndperm = np.random.permutation(mnist.data.shape[0])\n",
    "n_sne = 10000 #it is sufficient if done for 10k samples\n",
    "tsne = TSNE(n_components=2, verbose=1, perplexity=40, n_iter=300)\n",
    "projected_X = np.transpose(projected_X)\n",
    "tsne_pca_results = tsne.fit_transform(projected_X[rndperm[:n_sne]])\n",
    "\n",
    "#WORKS ON GORINA. ERROR CAUSED BY LOCAL ISSUE."
   ]
  },
  {
   "cell_type": "markdown",
   "metadata": {},
   "source": [
    "Finally, scatter plot the components given by the tSNE using matplotlib compare it to the earlier scatter plot."
   ]
  },
  {
   "cell_type": "code",
   "execution_count": 86,
   "metadata": {},
   "outputs": [
    {
     "ename": "NameError",
     "evalue": "name 'tsne_pca_results' is not defined",
     "output_type": "error",
     "traceback": [
      "\u001b[1;31m---------------------------------------------------------------------------\u001b[0m",
      "\u001b[1;31mNameError\u001b[0m                                 Traceback (most recent call last)",
      "\u001b[1;32m<ipython-input-86-333ec2c51d72>\u001b[0m in \u001b[0;36m<module>\u001b[1;34m\u001b[0m\n\u001b[0;32m      4\u001b[0m \u001b[0myred\u001b[0m \u001b[1;33m=\u001b[0m \u001b[0my\u001b[0m\u001b[1;33m[\u001b[0m\u001b[1;36m0\u001b[0m\u001b[1;33m:\u001b[0m\u001b[1;36m10000\u001b[0m\u001b[1;33m]\u001b[0m\u001b[1;33m\u001b[0m\u001b[1;33m\u001b[0m\u001b[0m\n\u001b[0;32m      5\u001b[0m \u001b[1;31m# Create dataset\u001b[0m\u001b[1;33m\u001b[0m\u001b[1;33m\u001b[0m\u001b[1;33m\u001b[0m\u001b[0m\n\u001b[1;32m----> 6\u001b[1;33m \u001b[0mprint\u001b[0m\u001b[1;33m(\u001b[0m\u001b[0mtsne_pca_results\u001b[0m\u001b[1;33m[\u001b[0m\u001b[1;33m:\u001b[0m\u001b[1;33m,\u001b[0m\u001b[1;36m0\u001b[0m\u001b[1;33m]\u001b[0m\u001b[1;33m.\u001b[0m\u001b[0mshape\u001b[0m\u001b[1;33m)\u001b[0m\u001b[1;33m\u001b[0m\u001b[1;33m\u001b[0m\u001b[0m\n\u001b[0m\u001b[0;32m      7\u001b[0m \u001b[0mprint\u001b[0m\u001b[1;33m(\u001b[0m\u001b[0myred\u001b[0m\u001b[1;33m.\u001b[0m\u001b[0mshape\u001b[0m\u001b[1;33m)\u001b[0m\u001b[1;33m\u001b[0m\u001b[1;33m\u001b[0m\u001b[0m\n\u001b[0;32m      8\u001b[0m \u001b[0mdf\u001b[0m \u001b[1;33m=\u001b[0m \u001b[0mpd\u001b[0m\u001b[1;33m.\u001b[0m\u001b[0mDataFrame\u001b[0m\u001b[1;33m(\u001b[0m\u001b[0mdict\u001b[0m\u001b[1;33m(\u001b[0m\u001b[0mx\u001b[0m\u001b[1;33m=\u001b[0m\u001b[0mtsne_pca_results\u001b[0m\u001b[1;33m[\u001b[0m\u001b[1;33m:\u001b[0m\u001b[1;33m,\u001b[0m\u001b[1;36m0\u001b[0m\u001b[1;33m]\u001b[0m\u001b[1;33m,\u001b[0m \u001b[0my\u001b[0m\u001b[1;33m=\u001b[0m\u001b[0mtsne_pca_results\u001b[0m\u001b[1;33m[\u001b[0m\u001b[1;33m:\u001b[0m\u001b[1;33m,\u001b[0m\u001b[1;36m1\u001b[0m\u001b[1;33m]\u001b[0m\u001b[1;33m,\u001b[0m \u001b[0mlabel\u001b[0m\u001b[1;33m=\u001b[0m\u001b[0myred\u001b[0m\u001b[1;33m)\u001b[0m\u001b[1;33m)\u001b[0m\u001b[1;33m\u001b[0m\u001b[1;33m\u001b[0m\u001b[0m\n",
      "\u001b[1;31mNameError\u001b[0m: name 'tsne_pca_results' is not defined"
     ]
    }
   ],
   "source": [
    "import matplotlib.pyplot as plt\n",
    "import numpy as np\n",
    "import pandas as pd\n",
    "yred = y[0:10000]\n",
    "# Create dataset\n",
    "print(tsne_pca_results[:,0].shape)\n",
    "print(yred.shape)\n",
    "df = pd.DataFrame(dict(x=tsne_pca_results[:,0], y=tsne_pca_results[:,1], label=yred))\n",
    "\n",
    "groups = df.groupby('label')\n",
    "\n",
    "# plot\n",
    "fig, ax = plt.subplots()\n",
    "ax.margins(0.05)\n",
    "for name, group in groups:\n",
    "    ax.plot(group.x, group.y, marker='o', linestyle='', ms=12, label=name)\n",
    "ax.legend()\n",
    "\n",
    "plt.show()\n",
    "#WORKS ON GORINA. ERROR CAUSED BY LOCAL ISSUE."
   ]
  }
 ],
 "metadata": {
  "kernelspec": {
   "display_name": "Python 3",
   "language": "python",
   "name": "python3"
  },
  "language_info": {
   "codemirror_mode": {
    "name": "ipython",
    "version": 3
   },
   "file_extension": ".py",
   "mimetype": "text/x-python",
   "name": "python",
   "nbconvert_exporter": "python",
   "pygments_lexer": "ipython3",
   "version": "3.7.1"
  }
 },
 "nbformat": 4,
 "nbformat_minor": 2
}
