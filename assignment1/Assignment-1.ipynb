{
 "cells": [
  {
   "cell_type": "markdown",
   "metadata": {},
   "source": [
    "In this assignment the goal is to implement the dimensionality reduction technique *Principal Component Analysis (PCA)* to a very high dimensional data and apply visualization. Note that you are not allowed to use the built-in PCA API provided by the sklearn library. Instead you will be implementing from the scratch.\n",
    "\n",
    "    For this task we use the MNIST dataset. First we download the dataset using openml api"
   ]
  },
  {
   "cell_type": "code",
   "execution_count": 1,
   "metadata": {},
   "outputs": [
    {
     "name": "stdout",
     "output_type": "stream",
     "text": [
      "(70000, 784) (70000,)\n"
     ]
    }
   ],
   "source": [
    "from sklearn.datasets import fetch_openml\n",
    "mnist = fetch_openml('mnist_784', cache=False)\n",
    "X = mnist.data\n",
    "y = mnist.target\n",
    "print(X.shape, y.shape)"
   ]
  },
  {
   "cell_type": "markdown",
   "metadata": {},
   "source": [
    "# Part-1: Preprocessing\n",
    "Before implementing PCA you are required to perform some preprocessing steps:\n",
    "1. Mean normalization: Replace each feature/attribute, $x_{ji}$ with $x_j - \\mu_j$, In other words, determine the mean of each feature set, and then for each feature subtract the mean from the value, so we re-scale the mean to be 0 \n",
    "2. Feature scaling: If features have very different scales then scale make them comparable by altering the scale, so they all have a comparable range of values e.g. $x_{ji}$ is set to $(x_j - \\mu_j) / s_j$  Where $s_j$ is some measure of the range, so could be  $\\max(x_j) - \\min(x_j)$ or Standard deviation $stddev(x_j)$."
   ]
  },
  {
   "cell_type": "code",
   "execution_count": 2,
   "metadata": {},
   "outputs": [
    {
     "name": "stdout",
     "output_type": "stream",
     "text": [
      "(70000,)\n",
      "(70000,)\n",
      "[[-35.10841837 -39.6619898  -24.7997449  ... -37.28443878 -33.87627551\n",
      "  -53.35841837]\n",
      " [-35.10841837 -39.6619898  -24.7997449  ... -37.28443878 -33.87627551\n",
      "  -53.35841837]\n",
      " [-35.10841837 -39.6619898  -24.7997449  ... -37.28443878 -33.87627551\n",
      "  -53.35841837]\n",
      " ...\n",
      " [-35.10841837 -39.6619898  -24.7997449  ... -37.28443878 -33.87627551\n",
      "  -53.35841837]\n",
      " [-35.10841837 -39.6619898  -24.7997449  ... -37.28443878 -33.87627551\n",
      "  -53.35841837]\n",
      " [-35.10841837 -39.6619898  -24.7997449  ... -37.28443878 -33.87627551\n",
      "  -53.35841837]]\n",
      "[[-0.44079014 -0.47280168 -0.37816163 ... -0.44463709 -0.42776375\n",
      "  -0.5574036 ]\n",
      " [-0.44079014 -0.47280168 -0.37816163 ... -0.44463709 -0.42776375\n",
      "  -0.5574036 ]\n",
      " [-0.44079014 -0.47280168 -0.37816163 ... -0.44463709 -0.42776375\n",
      "  -0.5574036 ]\n",
      " ...\n",
      " [-0.44079014 -0.47280168 -0.37816163 ... -0.44463709 -0.42776375\n",
      "  -0.5574036 ]\n",
      " [-0.44079014 -0.47280168 -0.37816163 ... -0.44463709 -0.42776375\n",
      "  -0.5574036 ]\n",
      " [-0.44079014 -0.47280168 -0.37816163 ... -0.44463709 -0.42776375\n",
      "  -0.5574036 ]]\n"
     ]
    }
   ],
   "source": [
    "#TODO Implement mean normalization and feature scaling\n",
    "\n",
    "\n",
    "import numpy as np\n",
    "#transpose X:\n",
    "Xt = np.transpose(X)\n",
    "# Average of the values in each row of X\n",
    "ave_rows = np.mean(Xt, axis=0)\n",
    "\n",
    "# Standard Deviation of the values in each row of X\n",
    "std_rows = Xt.std(axis=0)    \n",
    "\n",
    "#should be same number of rows as in X.shape:\n",
    "# Print the shape of ave_rows\n",
    "print(ave_rows.shape)\n",
    "# Print the shape of std_rows\n",
    "print(std_rows.shape)\n",
    "\n",
    "#Mean normalization of X\n",
    "X_norm = (Xt - ave_rows)\n",
    "\n",
    "#Feature Scaling of X\n",
    "X_scaled = X_norm/std_rows\n",
    "\n",
    "print(X_norm)\n",
    "print(X_scaled)"
   ]
  },
  {
   "cell_type": "markdown",
   "metadata": {},
   "source": [
    "# Part-2: Covariance matrix\n",
    "Now the preprocessing is finished. Next, as explained in the lecture, you need to compute the covariance matrix https://en.wikipedia.org/wiki/Covariance_matrix. Given $n \\times m$ $n$ rows and $m$ columns matrix, a covariance matrix is an $n \\times n$ matrix given as below (sigma)\n",
    "$\\Sigma = \\frac{1}{m}\\sum{\\left(x^{i}\\right)\\times \\left(x^{i}\\right)^{T}}$\n",
    "You may use the \"numpy.cov\" function in numpy library "
   ]
  },
  {
   "cell_type": "code",
   "execution_count": 3,
   "metadata": {
    "scrolled": true
   },
   "outputs": [
    {
     "name": "stdout",
     "output_type": "stream",
     "text": [
      "[[0.00590748 0.00590748 0.00590748 ... 0.00590748 0.00590748 0.00590748]\n",
      " [0.00590748 0.00590748 0.00590748 ... 0.00590748 0.00590748 0.00590748]\n",
      " [0.00590748 0.00590748 0.00590748 ... 0.00590748 0.00590748 0.00590748]\n",
      " ...\n",
      " [0.00590748 0.00590748 0.00590748 ... 0.00590748 0.00590748 0.00590748]\n",
      " [0.00590748 0.00590748 0.00590748 ... 0.00590748 0.00590748 0.00590748]\n",
      " [0.00590748 0.00590748 0.00590748 ... 0.00590748 0.00590748 0.00590748]]\n"
     ]
    }
   ],
   "source": [
    "#TODO Compute X to covariance matrix cov_matrix.\n",
    "cov_matrix = np.cov(X_scaled)\n",
    "print(cov_matrix)"
   ]
  },
  {
   "cell_type": "markdown",
   "metadata": {},
   "source": [
    "# Part-3: SVD computation\n",
    "Now compute the SVD on the covariance matrix $SVD(\\Sigma)$. You may use the svd implementation in numpy.linalg.svd"
   ]
  },
  {
   "cell_type": "code",
   "execution_count": 4,
   "metadata": {},
   "outputs": [],
   "source": [
    "import numpy as np\n",
    "def getSVD(temp):\n",
    "    U, S, V = np.linalg.svd(temp,  full_matrices=False)\n",
    "    return (U,S,V)\n",
    "U,S,V = getSVD(cov_matrix) #SVD"
   ]
  },
  {
   "cell_type": "markdown",
   "metadata": {},
   "source": [
    "# Part-4: Compute PCA matrix (K dimensional)\n",
    "Now select the first $k$ columns from the matrix $U$ and multiply with $X$ to get $k$ dimensional representation."
   ]
  },
  {
   "cell_type": "code",
   "execution_count": 13,
   "metadata": {},
   "outputs": [],
   "source": [
    "def getKComponents(U, X, K):\n",
    "    #TODO implement matrix multiplication of first k columns of U * X\n",
    "    Uk = np.transpose(U[:,:K])\n",
    "    out = np.matmul(Uk,X)\n",
    "    return (out)\n",
    "#I set variable K to 10 for testing:\n",
    "PCA = getKComponents(U,X_scaled,10)"
   ]
  },
  {
   "cell_type": "markdown",
   "metadata": {},
   "source": [
    "# Part-5: Compute Reconstruction Error\n",
    "Implement a function to compute the variance ratio (from reconstruction error)"
   ]
  },
  {
   "cell_type": "code",
   "execution_count": 17,
   "metadata": {},
   "outputs": [
    {
     "name": "stdout",
     "output_type": "stream",
     "text": [
      "[[ 0.00000000e+00  0.00000000e+00 -9.36176040e-28 ...  0.00000000e+00\n",
      "   0.00000000e+00  0.00000000e+00]\n",
      " [ 0.00000000e+00  0.00000000e+00 -9.36176040e-28 ...  0.00000000e+00\n",
      "   0.00000000e+00  0.00000000e+00]\n",
      " [ 0.00000000e+00  0.00000000e+00 -9.36176040e-28 ...  0.00000000e+00\n",
      "   0.00000000e+00  0.00000000e+00]\n",
      " ...\n",
      " [ 0.00000000e+00  0.00000000e+00 -3.05969940e-14 ...  0.00000000e+00\n",
      "   0.00000000e+00  0.00000000e+00]\n",
      " [ 0.00000000e+00  0.00000000e+00 -3.05969940e-14 ...  0.00000000e+00\n",
      "   0.00000000e+00  0.00000000e+00]\n",
      " [ 0.00000000e+00  0.00000000e+00 -1.74919934e-07 ...  0.00000000e+00\n",
      "   0.00000000e+00  0.00000000e+00]]\n",
      "5.575252052868255e-22\n",
      "2.229485115372503e-07\n",
      "2.5006904125200855e-15\n"
     ]
    }
   ],
   "source": [
    "def getVarianceRatio(PCA, K, X):\n",
    "    #Implement computation of reconstruction error\n",
    "    # Average of the values in each row of U\n",
    "    mean_rows = np.mean(PCA, axis=0)\n",
    "\n",
    "    # Standard Deviation of the values in each row of U:\n",
    "    std_PCA_rows = PCA.std(axis=0)   \n",
    "    \n",
    "    #XApproximated:\n",
    "    Xapprox = (PCA-mean_rows)/std_PCA_rows\n",
    "    \n",
    "    Xpow = X[:K,:]\n",
    "    for i in range(Xpow.shape[1]):\n",
    "        Xpow[:,i] = Xpow[:,i]**i\n",
    "\n",
    "    for i in range(Xapprox.shape[1]):\n",
    "        Xapprox[:,i] = Xpow[:,i]**i\n",
    "    \n",
    "    m=X.shape[0]*X.shape[1]\n",
    "    \n",
    "    sub=Xapprox-Xpow\n",
    "    print(sub)\n",
    "    print(1/m*sum(sum(abs(sub)**2)))\n",
    "    print(1/m*sum(sum(abs(Xpow)**2)))\n",
    "    \n",
    "    #Reconstruction Error:\n",
    "    recErr = (1/m*sum(sum((abs(sub)**2))))/(1/m*sum(sum(abs(Xpow)**2)))\n",
    "    return (recErr)\n",
    "\n",
    "recErr = getVarianceRatio(PCA,10,X_scaled)\n",
    "print(recErr)"
   ]
  },
  {
   "cell_type": "markdown",
   "metadata": {},
   "source": [
    "Compare the variance ration to the built-in PCA implementation in sklearn https://scikit-learn.org/stable/modules/generated/sklearn.decomposition.PCA.html (this step is optional)"
   ]
  },
  {
   "cell_type": "markdown",
   "metadata": {},
   "source": [
    "# Part-6: Scatter plot 2-dimensional PCA\n",
    "Using matplotlib plot the 2-dimensional scatter plot of the first 2 compoenents with y (target) as labels"
   ]
  },
  {
   "cell_type": "code",
   "execution_count": 92,
   "metadata": {},
   "outputs": [
    {
     "data": {
      "text/plain": [
       "Text(0, 0.5, '0')"
      ]
     },
     "execution_count": 92,
     "metadata": {},
     "output_type": "execute_result"
    },
    {
     "data": {
      "image/png": "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\n",
      "text/plain": [
       "<Figure size 432x288 with 1 Axes>"
      ]
     },
     "metadata": {
      "needs_background": "light"
     },
     "output_type": "display_data"
    }
   ],
   "source": [
    "#TODO Plot the scatter plot \n",
    "#plot PCA[:,:2] using y[0] and y[1] as labels\n",
    "\n",
    "import matplotlib.pyplot as plt\n",
    "\n",
    "#cm=plt.cm.get_cmap('RdYlBu')\n",
    "plt.clf()\n",
    "plt.scatter(PCA[:,0], PCA[:,1])#, c=range(10), vmin=0, vmax=10, s=35, cmap=cm)\n",
    "plt.xlabel(y[0])\n",
    "plt.ylabel(y[1]) \n",
    "#plt.colorbar()\n"
   ]
  },
  {
   "cell_type": "markdown",
   "metadata": {},
   "source": [
    "# Part-7 Find best $K$\n",
    "Find the minimum value of $K$ with which the ratio between averaged squared projection error with total variation in data is less than 10% in other words we retain 90% of the variance. You can achieve this by repeating getKComponents with $K=1$ until the variance ratio is <= 10%."
   ]
  },
  {
   "cell_type": "markdown",
   "metadata": {},
   "source": [
    "# Part-8: TSNE visualization\n",
    "Finally, having found an optimal $K$ use these components as an input data to another dimensionality reduction method called tSNE (https://en.wikipedia.org/wiki/T-distributed_stochastic_neighbor_embedding) and reduce it to 2 dimensions."
   ]
  },
  {
   "cell_type": "code",
   "execution_count": 23,
   "metadata": {},
   "outputs": [
    {
     "name": "stdout",
     "output_type": "stream",
     "text": [
      "(70000, 50)\n",
      "[t-SNE] Computing 121 nearest neighbors...\n",
      "[t-SNE] Indexed 10000 samples in 0.062s...\n",
      "[t-SNE] Computed neighbors for 10000 samples in 24.497s...\n",
      "[t-SNE] Computed conditional probabilities for sample 1000 / 10000\n",
      "[t-SNE] Computed conditional probabilities for sample 2000 / 10000\n",
      "[t-SNE] Computed conditional probabilities for sample 3000 / 10000\n",
      "[t-SNE] Computed conditional probabilities for sample 4000 / 10000\n",
      "[t-SNE] Computed conditional probabilities for sample 5000 / 10000\n",
      "[t-SNE] Computed conditional probabilities for sample 6000 / 10000\n",
      "[t-SNE] Computed conditional probabilities for sample 7000 / 10000\n",
      "[t-SNE] Computed conditional probabilities for sample 8000 / 10000\n",
      "[t-SNE] Computed conditional probabilities for sample 9000 / 10000\n",
      "[t-SNE] Computed conditional probabilities for sample 10000 / 10000\n",
      "[t-SNE] Mean sigma: 5.415166\n",
      "[t-SNE] KL divergence after 250 iterations with early exaggeration: 81.412766\n",
      "[t-SNE] KL divergence after 300 iterations: 2.731964\n"
     ]
    }
   ],
   "source": [
    "from sklearn.manifold import TSNE\n",
    "rndperm = np.random.permutation(mnist.data.shape[0])\n",
    "n_sne = 10000 #it is sufficient if done for 10k samples\n",
    "tsne = TSNE(n_components=2, verbose=1, perplexity=40, n_iter=300)\n",
    "\n",
    "pca_result_50 = np.transpose(getKComponents(U,X_scaled,50))\n",
    "\n",
    "tsne_pca_results = tsne.fit_transform(pca_result_50[rndperm[:n_sne]])"
   ]
  },
  {
   "cell_type": "markdown",
   "metadata": {},
   "source": [
    "Finally, scatter plot the components given by the tSNE using matplotlib compare it to the earlier scatter plot."
   ]
  },
  {
   "cell_type": "code",
   "execution_count": 99,
   "metadata": {},
   "outputs": [
    {
     "data": {
      "text/plain": [
       "Text(0, 0.5, '0')"
      ]
     },
     "execution_count": 99,
     "metadata": {},
     "output_type": "execute_result"
    },
    {
     "data": {
      "image/png": "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\n",
      "text/plain": [
       "<Figure size 432x288 with 1 Axes>"
      ]
     },
     "metadata": {
      "needs_background": "light"
     },
     "output_type": "display_data"
    }
   ],
   "source": [
    "#TODO: Scatter plot the 2-dimensional tsne compoents with target as labels\n",
    "import matplotlib.pyplot as plt\n",
    "#cm=plt.cm.get_cmap('RdYlBu')\n",
    "plt.clf()\n",
    "plt.scatter(tsne_pca_results[:,0], tsne_pca_results[:,1])#, c=range(10000), vmin=0, vmax=10000, s=35, cmap=cm)\n",
    "plt.xlabel(y[0])\n",
    "plt.ylabel(y[1])\n",
    "#plt.colorbar()"
   ]
  }
 ],
 "metadata": {
  "kernelspec": {
   "display_name": "Python 3",
   "language": "python",
   "name": "python3"
  },
  "language_info": {
   "codemirror_mode": {
    "name": "ipython",
    "version": 3
   },
   "file_extension": ".py",
   "mimetype": "text/x-python",
   "name": "python",
   "nbconvert_exporter": "python",
   "pygments_lexer": "ipython3",
<<<<<<< HEAD
   "version": "3.7.1"
=======
   "version": "3.6.8"
>>>>>>> f8c6071d69ae83b6cebdc99c887cccd6c8d1a4f5
  }
 },
 "nbformat": 4,
 "nbformat_minor": 2
}
